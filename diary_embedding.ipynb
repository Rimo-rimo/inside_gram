{
 "cells": [
  {
   "cell_type": "markdown",
   "metadata": {},
   "source": [
    "# Moduel"
   ]
  },
  {
   "cell_type": "code",
   "execution_count": 26,
   "metadata": {},
   "outputs": [],
   "source": [
    "import dotenv\n",
    "from openai import OpenAI\n",
    "dotenv.load_dotenv()\n",
    "import json\n",
    "from tqdm import tqdm\n",
    "import ast\n",
    "import os\n",
    "import requests\n",
    "import pandas as pd\n",
    "from pymilvus import MilvusClient\n",
    "from pymilvus import model\n",
    "import numpy as np\n",
    "from tqdm import tqdm\n",
    "import time\n",
    "from pymilvus import MilvusClient, Collection, connections, DataType, CollectionSchema, FieldSchema\n",
    "\n",
    "# client = OpenAI()"
   ]
  },
  {
   "cell_type": "code",
   "execution_count": 2,
   "metadata": {},
   "outputs": [],
   "source": [
    "CLOVASTUDIO_API_KEY = os.environ.get(\"X-NCP-CLOVASTUDIO-API-KEY\")\n",
    "APIGW_API_KEY = os.environ.get(\"X-NCP-APIGW-API-KEY\")"
   ]
  },
  {
   "cell_type": "markdown",
   "metadata": {},
   "source": [
    "# Milvus Vector DB 생성"
   ]
  },
  {
   "cell_type": "code",
   "execution_count": 48,
   "metadata": {},
   "outputs": [],
   "source": [
    "client = MilvusClient()"
   ]
  },
  {
   "cell_type": "code",
   "execution_count": 15,
   "metadata": {},
   "outputs": [],
   "source": [
    "# 필드 스키마 정의\n",
    "diary_field = FieldSchema(name=\"diary_id\", dtype=DataType.INT64, is_primary=True, description=\"Diary ID\")\n",
    "user_field = FieldSchema(name=\"user_id\", dtype=DataType.VARCHAR, max_length=100, description=\"User ID\")\n",
    "text_field = FieldSchema(name=\"text\", dtype=DataType.VARCHAR, max_length=10000, description=\"Diary Text\")\n",
    "dense_vector_field = FieldSchema(name=\"dense_vector\", dtype=DataType.FLOAT_VECTOR, dim=1024, description=\"Dense Embedding Vector\")"
   ]
  },
  {
   "cell_type": "code",
   "execution_count": 16,
   "metadata": {},
   "outputs": [],
   "source": [
    "# 컬렉션 스키마 생성\n",
    "schema = CollectionSchema(fields=[diary_field, user_field, text_field, dense_vector_field], description=\"InsideGram Schema\")"
   ]
  },
  {
   "cell_type": "code",
   "execution_count": 17,
   "metadata": {},
   "outputs": [],
   "source": [
    "# # # 컬렉션 생성\n",
    "# collection_name = \"inside_gram\"\n",
    "# client.create_collection(collection_name=collection_name, schema=schema)"
   ]
  },
  {
   "cell_type": "markdown",
   "metadata": {},
   "source": [
    "# 임베딩 모델 & 함수 "
   ]
  },
  {
   "cell_type": "code",
   "execution_count": 40,
   "metadata": {},
   "outputs": [],
   "source": [
    "embedding_headers = {\n",
    "    'X-NCP-CLOVASTUDIO-API-KEY': CLOVASTUDIO_API_KEY,\n",
    "    'X-NCP-APIGW-API-KEY': APIGW_API_KEY,\n",
    "    'X-NCP-CLOVASTUDIO-REQUEST-ID': \"4f5f51a0-acf0-484e-84c9-46cf2aa067f3\",\n",
    "    'Content-Type': 'application/json; charset=utf-8',\n",
    "    }\n",
    "\n",
    "def get_embedding(content):\n",
    "\n",
    "    request_data = {\n",
    "        \"text\": content\n",
    "        }\n",
    "    \n",
    "    reaction = requests.post(\"https://clovastudio.apigw.ntruss.com/testapp/v1/api-tools/embedding/v2/4aacadacd0c048e98e14e4870c2f2c93\", headers=embedding_headers, json=request_data)\n",
    "    try:\n",
    "        result = reaction.json()[\"result\"][\"embedding\"]\n",
    "    except:\n",
    "        result = str(reaction)\n",
    "        print(result)\n",
    "    return result\n"
   ]
  },
  {
   "cell_type": "markdown",
   "metadata": {},
   "source": [
    "# Data Load"
   ]
  },
  {
   "cell_type": "code",
   "execution_count": 41,
   "metadata": {},
   "outputs": [],
   "source": [
    "file_path = \"/home/InsideGram/data/corrected_diary.jsonl\"\n",
    "\n",
    "diary_list = []\n",
    "with open(file_path, 'r', encoding='utf-8') as file:\n",
    "    for n, line in enumerate(file):\n",
    "        diary_list.extend([i[\"content\"] for i in json.loads(json.loads(line.strip())[\"choices\"][0][\"message\"][\"content\"])[\"diaries\"]])"
   ]
  },
  {
   "cell_type": "code",
   "execution_count": 44,
   "metadata": {},
   "outputs": [
    {
     "name": "stderr",
     "output_type": "stream",
     "text": [
      "176it [06:16,  2.14s/it]\n"
     ]
    }
   ],
   "source": [
    "entities = []\n",
    "# error_list = []\n",
    "for n, diary in tqdm(enumerate(diary_list)):\n",
    "    user_id = \"84c484e2-6bd7-43bb-9a22-a87247730647\"\n",
    "    embedding_i = get_embedding(diary)\n",
    "    entity_i = {\"diary_id\":-1, \"user_id\":user_id, \"text\":diary, \"dense_vector\":embedding_i}\n",
    "    entities.append(entity_i)\n",
    "    if n%30 == 0:\n",
    "        time.sleep(60) \n",
    "        \n"
   ]
  },
  {
   "cell_type": "code",
   "execution_count": 52,
   "metadata": {},
   "outputs": [],
   "source": [
    "entities_ = []\n",
    "for i in entities:\n",
    "    entities_.append({\"diary_id\":i[\"diary_field\"], \"user_id\":i[\"user_field\"], \"text\":i[\"text_field\"], \"dense_vector\":i[\"dense_vector_field\"]})\n",
    "    # break"
   ]
  },
  {
   "cell_type": "code",
   "execution_count": 58,
   "metadata": {},
   "outputs": [
    {
     "data": {
      "text/plain": [
       "176"
      ]
     },
     "execution_count": 58,
     "metadata": {},
     "output_type": "execute_result"
    }
   ],
   "source": [
    "len(entities_)"
   ]
  },
  {
   "cell_type": "code",
   "execution_count": 55,
   "metadata": {},
   "outputs": [],
   "source": [
    "# res = client.insert(collection_name=\"inside_gram\", data = entities_)"
   ]
  },
  {
   "cell_type": "markdown",
   "metadata": {},
   "source": [
    "# Index"
   ]
  },
  {
   "cell_type": "code",
   "execution_count": 61,
   "metadata": {},
   "outputs": [],
   "source": [
    "# ######### Dense Vector ##########\n",
    "\n",
    "# client.release_collection(\"inside_gram\")\n",
    "# client.drop_index(collection_name=\"inside_gram\", index_name=\"dense_vector\")\n",
    "\n",
    "# index_params = MilvusClient.prepare_index_params()\n",
    "\n",
    "# index_params.add_index(\n",
    "#     field_name=\"dense_vector\",\n",
    "#     metric_type=\"COSINE\",\n",
    "#     index_type=\"FLAT\",\n",
    "#     index_name=\"dense_vector\"\n",
    "# )\n",
    "\n",
    "# client.create_index(\n",
    "#     collection_name=\"inside_gram\",\n",
    "#     index_params=index_params\n",
    "# )"
   ]
  },
  {
   "cell_type": "markdown",
   "metadata": {},
   "source": [
    "# Vector Search"
   ]
  },
  {
   "cell_type": "code",
   "execution_count": 67,
   "metadata": {},
   "outputs": [],
   "source": [
    "client.load_collection(\"inside_gram\")"
   ]
  },
  {
   "cell_type": "code",
   "execution_count": 78,
   "metadata": {},
   "outputs": [],
   "source": [
    "diary_text = \"오늘은 엄마랑 영화를 봤다. 간만에 엄마와 함께 한 시간이어서 너무 행복했다\""
   ]
  },
  {
   "cell_type": "code",
   "execution_count": 79,
   "metadata": {},
   "outputs": [],
   "source": [
    "query_vectors = get_embedding(diary_text)"
   ]
  },
  {
   "cell_type": "code",
   "execution_count": 93,
   "metadata": {},
   "outputs": [],
   "source": [
    "res = client.search(\n",
    "    collection_name=\"inside_gram\",  # target collection\n",
    "    data=[query_vectors],  # query vectors\n",
    "    limit=100,  # number of returned entities\n",
    "    output_fields=[\"text\"],  # specifies fields to be returned\n",
    "    # anns_field=\"dense_vector\"\n",
    ")"
   ]
  },
  {
   "cell_type": "code",
   "execution_count": 94,
   "metadata": {},
   "outputs": [
    {
     "data": {
      "text/plain": [
       "data: [\"[{'id': -1, 'distance': 0.7062965035438538, 'entity': {'text': '오늘은 집에서 혼자 영화를 보면서 하루를 보냈다. 최근에 일이 많아서 스트레스를 받았는데, 영화를 보는 동안만큼은 모든 걸 잊고 힐링할 수 있었다. 코미디 영화를 보면서 웃음이 끊이질 않았다. 정말 필요했던 시간이었다.'}}]\"] , extra_info: {'cost': 0}"
      ]
     },
     "execution_count": 94,
     "metadata": {},
     "output_type": "execute_result"
    }
   ],
   "source": [
    "res"
   ]
  },
  {
   "cell_type": "code",
   "execution_count": null,
   "metadata": {},
   "outputs": [],
   "source": []
  }
 ],
 "metadata": {
  "kernelspec": {
   "display_name": "inside_gram",
   "language": "python",
   "name": "python3"
  },
  "language_info": {
   "codemirror_mode": {
    "name": "ipython",
    "version": 3
   },
   "file_extension": ".py",
   "mimetype": "text/x-python",
   "name": "python",
   "nbconvert_exporter": "python",
   "pygments_lexer": "ipython3",
   "version": "3.11.7"
  }
 },
 "nbformat": 4,
 "nbformat_minor": 2
}
